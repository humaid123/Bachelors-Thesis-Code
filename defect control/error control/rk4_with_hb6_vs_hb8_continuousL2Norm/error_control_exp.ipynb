{
 "cells": [
  {
   "cell_type": "code",
   "execution_count": 1,
   "metadata": {},
   "outputs": [],
   "source": [
    "from math import sin, sqrt, exp, cos\n",
    "import matplotlib.pyplot as plt\n",
    "from rk4 import rk_error_control_perfect_first_step"
   ]
  },
  {
   "cell_type": "code",
   "execution_count": 2,
   "metadata": {},
   "outputs": [],
   "source": [
    "def create_t_eval(start, end, num_points = 100):\n",
    "    res = [start]\n",
    "    h = (end - start)/(num_points - 1)\n",
    "\n",
    "    for _ in range(num_points - 1):\n",
    "        res.append(\n",
    "            res[-1] + h\n",
    "        )\n",
    "    return res"
   ]
  },
  {
   "cell_type": "code",
   "execution_count": 3,
   "metadata": {},
   "outputs": [],
   "source": [
    "def experiment(model, y0, t_span, solution):\n",
    "    t_eval = create_t_eval(t_span[0], t_span[1])\n",
    "    tol = 1e-6\n",
    "    (res, sol, first_deriv, error_samplings, ratios, monitor) = rk_error_control_perfect_first_step(model, t_span, y0[0], tol, solution)\n",
    "    # (res, sol, first_deriv, error_samplings) = rk_error_control_static_alpha_beta(model, t_span, y0[0], tol, solution)\n",
    "    print(\"integration complete\")\n",
    "\n",
    "    # ====================================== figure of rk6 vs rk6_interps vs rk45\n",
    "    # plt.figure()\n",
    "    xs = [x[0] for x in res]\n",
    "    # ys = [x[1] for x in res]\n",
    "    # plt.plot(xs, ys, label=\"rk6\")\n",
    "\n",
    "    # plots of where the end of the steps occured to look at the interp\n",
    "    # for this_x in xs:\n",
    "    #     plt.axvline(x=this_x) \n",
    "\n",
    "    computed_solutions = [sol(x) for x in t_eval]\n",
    "    # plt.plot(t_eval, computed_solutions, label=\"computed solution\")\n",
    "\n",
    "    actual_solutions = solution(t_eval)\n",
    "    # plt.plot(t_eval, actual_solutions, label=\"actual solution\")\n",
    "\n",
    "    # # removed rk45 plt.title(\"solution vs rk45 vs rk6 vs rk6_interpolated\")\n",
    "    # plt.title(f\"actual solution vs interpolated solution tol={tol}\")\n",
    "    # plt.xlabel(\"t\")\n",
    "    # plt.ylabel('y')\n",
    "    # plt.legend(loc=\"upper right\")\n",
    "    # plt.show()\n",
    "    # ====================================== end figure of rk6 vs rk6_interps vs rk45\n",
    "\n",
    "    # ====================================== global error\n",
    "    plt.figure()\n",
    "    error = [abs(computed_solution - actual_solution) for (computed_solution, actual_solution) in zip(computed_solutions, actual_solutions)]\n",
    "    # for this_x in xs:\n",
    "    #     plt.axvline(x=this_x) \n",
    "    plt.plot(t_eval, error, label=\"global error\")\n",
    "    # plt.title(f\"global error for tol={tol}\")\n",
    "    plt.xlabel(\"t\")\n",
    "    plt.ylabel(\"error\")\n",
    "    plt.legend(loc=\"upper right\")\n",
    "    plt.show()\n",
    "    # ====================================== end of global error\n",
    "\n",
    "    \n",
    "    plt.figure()\n",
    "    end_of_steps = [r[0] for r in ratios]\n",
    "    ratios_at_end_of_steps = [r[1] for r in ratios]\n",
    "    plt.plot(end_of_steps, ratios_at_end_of_steps)\n",
    "    plt.axhline(y=1, color=\"red\")\n",
    "    plt.xlabel(\"t\")\n",
    "    plt.ylabel(\"ratio\")\n",
    "    # plt.title(f\"error_estimate/exact_error at end of steps for tol={tol}\")\n",
    "    plt.show()\n",
    "\n",
    "    # # shape of errors - graphs\n",
    "    # plt.figure()\n",
    "    # for (x_i, x_i_plus_1, hb) in error_samplings:\n",
    "    #     num_points = 100\n",
    "    #     pts_to_sample = create_t_eval(x_i, x_i_plus_1, num_points)\n",
    "    #     errors = []\n",
    "    #     for i, pt in enumerate(pts_to_sample):\n",
    "    #         y = solution([pt])[0]\n",
    "    #         hb_eval = hb.eval(pt)\n",
    "    #         error = abs(hb_eval - y)\n",
    "    #         errors.append( error )\n",
    "\n",
    "    #         # # print the error at the extremities\n",
    "    #         # if i == 0:\n",
    "    #         #     interpolation_error = hb_eval - hb.y_i\n",
    "    #         #     print(\"error=\", error, \"interpolation_error=\", interpolation_error)\n",
    "\n",
    "    #         # if i == len(pts_to_sample) - 1:\n",
    "    #         #     interpolation_error = hb_eval - hb.y_i_plus_1\n",
    "    #         #     print(\"error=\", error, \"interpolation_error=\", interpolation_error)\n",
    "\n",
    "    #     maximum_error = max(errors)\n",
    "    #     scaled_errors = [error / (maximum_error) for error in errors]\n",
    "\n",
    "    #     # str_x_i = \"{:.3f}\".format(x_i)\n",
    "    #     # str_x_i_plus_1 = \"{:.3f}\".format(x_i_plus_1)\n",
    "    #     x_axis = [i/(num_points - 1) for i in range(num_points)]\n",
    "    #     plt.plot(x_axis, scaled_errors, label=f\"x_{str(x_i)}_{str(x_i_plus_1)}\")\n",
    "    # plt.title(\"plot of shape of errors\")\n",
    "    # plt.xlabel(\"step scaled between 0 and 1\")\n",
    "    # plt.ylabel('scaled error')\n",
    "    # # plt.legend()\n",
    "    # plt.show()\n",
    "\n",
    "    # # ====================================== figure of satisfying global defect\n",
    "    # actual_f_evals = [model(x, solution([x])[0])[0] for x in t_eval]\n",
    "    # hb_prime_evals = [first_deriv(x) for x in t_eval]\n",
    "    # plt.figure()\n",
    "    # plt.plot(t_eval, actual_f_evals)\n",
    "    # plt.plot(t_eval, hb_prime_evals)\n",
    "    # plt.title(f\"first derivative for tol={tol}\")\n",
    "    # plt.show()\n",
    "\n",
    "    # defects = [abs(actual_f_eval - hb_prime_eval) for (actual_f_eval, hb_prime_eval) in zip(actual_f_evals, hb_prime_evals)]\n",
    "    # plt.figure()\n",
    "    # plt.plot(t_eval, defects)\n",
    "    # plt.title(f\"global defect for tol={tol}\")\n",
    "    # plt.show()\n",
    "    \n",
    "    # # ====================================== end figure of satisfying global defect\n",
    "\n",
    "    # # ====================================== figure of defect shape\n",
    "\n",
    "    # minimum_step_size = 0.01\n",
    "    # defects_small_steps = []\n",
    "    # plt.figure()\n",
    "    # for (x_i_minus_1, x_i, x_i_plus_1, hb) in derivs:\n",
    "    #     num_points = 100\n",
    "    #     pts_to_sample = create_t_eval(x_i, x_i_plus_1, num_points)\n",
    "    #     defects = []\n",
    "    #     for pt in pts_to_sample:\n",
    "    #         y = solution([pt])[0]\n",
    "    #         f_eval  = model(pt, y)[0]\n",
    "    #         hb_prime_eval = hb.prime(pt)\n",
    "    #         defects.append( abs(hb_prime_eval - f_eval) )\n",
    "    #     maximum_defect = max(defects)\n",
    "    #     # minimum_defect = min(defects)\n",
    "    #     # plot_vals = [(defect - minimum_defect) / (maximum_defect - minimum_defect) for defect in defects]\n",
    "    #     plot_vals = [ defect/ maximum_defect for defect in defects]\n",
    "    #     #plt.plot(xs, defects, label=f\"x_{str(x_i_minus_1)}_{str(x_i_plus_1)}\")\n",
    "    #     x_axis = [i/(num_points - 1) for i in range(num_points)]\n",
    "\n",
    "    #     if (x_i_plus_1 - x_i < minimum_step_size):\n",
    "    #         defects_small_steps.append([x_axis, plot_vals])\n",
    "    #         continue\n",
    "    #     plt.plot(x_axis, plot_vals, label=f\"x_{str(x_i_minus_1)}_{str(x_i_plus_1)}\")\n",
    "    # plt.title(\"plot of defects\")\n",
    "    # plt.xlabel(\"x_i to x_i_plus_1\")\n",
    "    # plt.ylabel('defect/(max_defect on x_i to x_i_plus_1)')\n",
    "    # # plt.legend()\n",
    "    # plt.show()\n",
    "    # # ====================================== end figure of defect\n",
    "\n",
    "    # # ====================================== defects on small steps\n",
    "    # plt.figure()\n",
    "    # for [x_axis, plot_vals] in defects_small_steps:\n",
    "    #     plt.plot(x_axis, plot_vals)\n",
    "    # plt.title(\"plot of defects on small step sizes\")\n",
    "    # plt.xlabel(\"x_i to x_i_plus_1\")\n",
    "    # plt.ylabel('defect/(max_defect on x_i to x_i_plus_1)')\n",
    "    # plt.show()"
   ]
  },
  {
   "cell_type": "code",
   "execution_count": 4,
   "metadata": {},
   "outputs": [
    {
     "name": "stdout",
     "output_type": "stream",
     "text": [
      "tolerance= 1e-06\n",
      "Monitor8\n",
      "===================================\n",
      "alpha values [0.5, 1.0, 0.4999999999999999, 0.5000000000000001]\n",
      "beta values [1.0, 2.0, 2.0000000000000004, 1.9999999999999996]\n",
      "n_steps 16\n",
      "n_successful_steps 15\n",
      "\n",
      "\n",
      "Monitor6\n",
      "===============================\n",
      "alpha values [0.5, 1.0, 0.4999999999999999, 0.5000000000000001]\n",
      "beta values []\n",
      "n_steps 0\n",
      "n_successful_steps 0\n",
      "================================\n",
      "\n",
      "integration complete\n"
     ]
    },
    {
     "data": {
      "image/png": "[encoded data removed]",
      "text/plain": [
       "<Figure size 432x288 with 1 Axes>"
      ]
     },
     "metadata": {
      "needs_background": "light"
     },
     "output_type": "display_data"
    },
    {
     "data": {
      "image/png": "[encoded data removed]",
      "text/plain": [
       "<Figure size 432x288 with 1 Axes>"
      ]
     },
     "metadata": {
      "needs_background": "light"
     },
     "output_type": "display_data"
    }
   ],
   "source": [
    "t_span_1 = [0, 10]\n",
    "y0_1 = [1]\n",
    "\n",
    "def model1(t, y):\n",
    "    return [(-1/2) * y**3]\n",
    "\n",
    "def solution1(t):\n",
    "    return [1/sqrt(1+x) for x in t]\n",
    "\n",
    "experiment(model1, y0_1, t_span_1, solution1)"
   ]
  },
  {
   "cell_type": "code",
   "execution_count": 5,
   "metadata": {},
   "outputs": [],
   "source": [
    "t_span_2 = [0, 10]\n",
    "y0_2 = [1]\n",
    "\n",
    "def model2(t, y):\n",
    "    return [-2*t*y**2]\n",
    "\n",
    "def solution2(t):\n",
    "    return [1/(1+x**2) for x in t]\n",
    "\n",
    "experiment(model2, y0_2, t_span_2, solution2)"
   ]
  },
  {
   "cell_type": "code",
   "execution_count": 6,
   "metadata": {},
   "outputs": [
    {
     "name": "stdout",
     "output_type": "stream",
     "text": [
      "tolerance= 1e-06\n",
      "Monitor8\n",
      "===================================\n",
      "alpha values [0.5, 1.0, 0.4999999999999999, 0.5000000000000001, 0.9999999999999998, 1.0000000000000002, 1.0000000000000009]\n",
      "beta values [0.9999999999999998, 1.0, 2.0, 2.0000000000000004, 1.9999999999999996, 1.0000000000000002, 0.9999999999999991, 1.0000000000000018]\n",
      "n_steps 15\n",
      "n_successful_steps 15\n",
      "\n",
      "\n",
      "Monitor6\n",
      "===============================\n",
      "alpha values [0.5, 1.0, 0.4999999999999999, 0.5000000000000001, 0.9999999999999998, 1.0000000000000002, 1.0000000000000009, 0.9999999999999981]\n",
      "beta values []\n",
      "n_steps 0\n",
      "n_successful_steps 0\n",
      "================================\n",
      "\n",
      "integration complete\n"
     ]
    },
    {
     "data": {
      "image/png": "[encoded data removed]",
      "text/plain": [
       "<Figure size 432x288 with 1 Axes>"
      ]
     },
     "metadata": {
      "needs_background": "light"
     },
     "output_type": "display_data"
    },
    {
     "data": {
      "image/png": "[encoded data removed]",
      "text/plain": [
       "<Figure size 432x288 with 1 Axes>"
      ]
     },
     "metadata": {
      "needs_background": "light"
     },
     "output_type": "display_data"
    }
   ],
   "source": [
    "t_span_3 = [0, 10]\n",
    "y0_3 = [1]\n",
    "\n",
    "def model3(t, y):\n",
    "    return [(1/4)*y*(1 - y/20)]\n",
    "\n",
    "def solution3(t):\n",
    "    return [20 / ( 1 + 19 * exp(-x/4) ) for x in t]\n",
    "\n",
    "experiment(model3, y0_3, t_span_3, solution3)"
   ]
  },
  {
   "cell_type": "code",
   "execution_count": 7,
   "metadata": {},
   "outputs": [],
   "source": [
    "t_span_4 = [0, 10]\n",
    "y0_4 = [0]\n",
    "\n",
    "def model4(t, y):\n",
    "    return [100 * (sin(t) - y)]\n",
    "    # return [10 * (sin(t) - y)]\n",
    "\n",
    "def solution4(t):\n",
    "    return [( 100 * ( exp(-100 * x) - cos(x) ) +  10000 * sin(x) ) / 10001 for x in t]\n",
    "    # return [( 10 * ( exp(-10 * x) - cos(x) ) +  100 * sin(x) ) / 101 for x in t]\n",
    "\n",
    "experiment(model4, y0_4, t_span_4, solution4)"
   ]
  },
  {
   "cell_type": "code",
   "execution_count": 8,
   "metadata": {},
   "outputs": [],
   "source": [
    "t_span_5 = [0, 10]\n",
    "y0_5 = [2]\n",
    "\n",
    "def model5(t, y):\n",
    "    return [(15 * cos(10 * t))/y]\n",
    "\n",
    "def solution5(t):\n",
    "    return [sqrt(3*sin(10*x) + 4) for x in t]\n",
    "\n",
    "experiment(model5, y0_5, t_span_5, solution5)"
   ]
  },
  {
   "cell_type": "code",
   "execution_count": 9,
   "metadata": {},
   "outputs": [],
   "source": [
    "t_span_6 = [0, 10]\n",
    "y0_6 = [1]\n",
    "\n",
    "def model6(t, y):\n",
    "    return [-y/(t+1)]\n",
    "\n",
    "def solution6(t):\n",
    "    return [1/(x+1) for x in t]\n",
    "\n",
    "experiment(model6, y0_6, t_span_6, solution6)"
   ]
  },
  {
   "cell_type": "code",
   "execution_count": 10,
   "metadata": {},
   "outputs": [
    {
     "name": "stdout",
     "output_type": "stream",
     "text": [
      "tolerance= 1e-06\n",
      "Monitor8\n",
      "===================================\n",
      "alpha values [0.5, 1.0, 2.0, 0.4999999999999999, 0.5000000000000001, 2.0000000000000018, 0.49999999999999956, 0.9999999999999991]\n",
      "beta values [0.5, 1.0, 2.0, 2.0000000000000004, 1.9999999999999996, 0.49999999999999956, 2.0000000000000018, 1.0000000000000009]\n",
      "n_steps 29\n",
      "n_successful_steps 26\n",
      "\n",
      "\n",
      "Monitor6\n",
      "===============================\n",
      "alpha values [0.5, 1.0, 2.0, 0.4999999999999999, 0.5000000000000001, 2.0000000000000018, 0.49999999999999956, 0.9999999999999991]\n",
      "beta values []\n",
      "n_steps 0\n",
      "n_successful_steps 0\n",
      "================================\n",
      "\n",
      "integration complete\n"
     ]
    },
    {
     "data": {
      "image/png": "[encoded data removed]",
      "text/plain": [
       "<Figure size 432x288 with 1 Axes>"
      ]
     },
     "metadata": {
      "needs_background": "light"
     },
     "output_type": "display_data"
    },
    {
     "data": {
      "image/png": "[encoded data removed]",
      "text/plain": [
       "<Figure size 432x288 with 1 Axes>"
      ]
     },
     "metadata": {
      "needs_background": "light"
     },
     "output_type": "display_data"
    }
   ],
   "source": [
    "t_span_7 = [0, 10]\n",
    "y0_7 = [1]\n",
    "\n",
    "def model7(t, y):\n",
    "    alpha = 0.1\n",
    "    return [ -alpha*y - exp(-alpha*t)*sin(t)]\n",
    "\n",
    "def solution7(t):\n",
    "    alpha = 0.1\n",
    "    return [exp(-alpha*x)*cos(x) for x in t]\n",
    "\n",
    "experiment(model7, y0_7, t_span_7, solution7)"
   ]
  },
  {
   "cell_type": "code",
   "execution_count": 11,
   "metadata": {},
   "outputs": [],
   "source": [
    "t_span_11 = [0, 10]\n",
    "y0_11 = [1]\n",
    "\n",
    "def model11(t, y):\n",
    "    return [-2*y + t]\n",
    "\n",
    "def solution11(t):\n",
    "    return [1/4 * (-1 + 5 * exp(-2 * x) + 2 * x) for x in t]\n",
    "\n",
    "experiment(model11, y0_11, t_span_11, solution11)"
   ]
  },
  {
   "cell_type": "code",
   "execution_count": 12,
   "metadata": {},
   "outputs": [],
   "source": [
    "# THE PROBLEMS BELOW CANNOT BE DONE YET\n",
    "# CANNOT BE DONE AS MY CURRENT rk6 does not handle a vector for the ys\n",
    "### ======================================================================\n",
    "\n",
    "\n",
    "# Jeff cash test set first one\n",
    "\n",
    "# t_span_8 = [0, 10]\n",
    "# eps = 0.1\n",
    "# a = exp(-1/eps)\n",
    "# y0_8 = [1, a/(eps*(-1+a))]\n",
    "\n",
    "# def model8(t, y):\n",
    "#     return [y[1], y[0]/eps]\n",
    "\n",
    "# def solution8(t):\n",
    "#     # THE experiment method calculates error on \"computed[0]\"\n",
    "#     # so we can only verify the error of y[0] there\n",
    "#     return [(1-exp(x/eps)*a)/(1-a) for x in t]\n",
    "\n",
    "# experiment(model8, y0_8, t_span_8, solution8)\n",
    "\n",
    "# ## the results were extremely bad. So i wanted to see the solution\n",
    "# plt.figure()\n",
    "# plt.plot(t_span_8, solution8(t_span_8))\n",
    "\n"
   ]
  },
  {
   "cell_type": "code",
   "execution_count": 13,
   "metadata": {},
   "outputs": [],
   "source": [
    "# Jeff cash test set second one\n",
    "# t_span_9 = [0, 10]\n",
    "# eps = 0.1\n",
    "# y0_9 = [1, -1/sqrt(eps)]\n",
    "\n",
    "# def model9(t, y):\n",
    "#     return [y[1], (y[0] + y[0]**2 - exp(-2*t/sqrt(eps)))/eps]\n",
    "\n",
    "# def solution9(t):\n",
    "#     # THE experiment method calculates error on \"computed[0]\"\n",
    "#     # so we can only verify the error of y[0] there\n",
    "#     return [exp(-x/sqrt(eps)) for x in t]\n",
    "\n",
    "# experiment(model9, y0_9, t_span_9, solution9)"
   ]
  },
  {
   "cell_type": "code",
   "execution_count": 14,
   "metadata": {},
   "outputs": [],
   "source": [
    "# # Wolfram Alpha first problem\n",
    "\n",
    "# t_span_10 = [0, 10]\n",
    "# y0_10 = [1, 2]\n",
    "\n",
    "# def model10(t, y):\n",
    "#     return [y[1], -3*y[0] + 2*cos(4*t)]\n",
    "\n",
    "# def solution10(t):\n",
    "#     # THE experiment method calculates error on \"computed[0]\"\n",
    "#     # so we can only verify the error of y[0] there\n",
    "#     s = sqrt(3)\n",
    "#     return [(26*s*sin(s*x) - 6*cos(4*x) + 45*cos(s*x))/39 for x in t]\n",
    "\n",
    "# experiment(model10, y0_10, t_span_10, solution10)"
   ]
  }
 ],
 "metadata": {
  "interpreter": {
   "hash": "2bc2692333605d8494768ca30ead6b76047697a72350c9a0e03136dfbf89c4f6"
  },
  "kernelspec": {
   "display_name": "Python 3.9.7 64-bit",
   "language": "python",
   "name": "python3"
  },
  "language_info": {
   "codemirror_mode": {
    "name": "ipython",
    "version": 3
   },
   "file_extension": ".py",
   "mimetype": "text/x-python",
   "name": "python",
   "nbconvert_exporter": "python",
   "pygments_lexer": "ipython3",
   "version": "3.9.7"
  },
  "orig_nbformat": 4
 },
 "nbformat": 4,
 "nbformat_minor": 2
}
